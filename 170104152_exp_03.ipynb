{
  "nbformat": 4,
  "nbformat_minor": 0,
  "metadata": {
    "colab": {
      "name": "170104140_exp_03.ipynb",
      "provenance": [],
      "collapsed_sections": [
        "ELmvZHX7gB7f",
        "vy9i_zJN2x3K",
        "mdAwK4i9hSlj",
        "muXO0kOLMQ4_",
        "59bFd5eI3dOh",
        "8Ln4MpL_8CQE",
        "ooaWornKkW2d",
        "r3OkI1J875jn",
        "6UZqwEqK3oOt"
      ]
    },
    "kernelspec": {
      "name": "python3",
      "display_name": "Python 3"
    },
    "language_info": {
      "name": "python"
    }
  },
  "cells": [
    {
      "cell_type": "markdown",
      "metadata": {
        "id": "ELmvZHX7gB7f"
      },
      "source": [
        "# **Download from Drive**\n",
        "\n",
        "---\n",
        "\n"
      ]
    },
    {
      "cell_type": "code",
      "metadata": {
        "colab": {
          "base_uri": "https://localhost:8080/"
        },
        "id": "WMJVu-eqW9yO",
        "outputId": "f28b5477-691a-4df5-b3a3-ba27aa3a3e19"
      },
      "source": [
        "!gdown --id '1e2N_1OxkeVzurW2ZdNHaoycMcSP9RrIZ'"
      ],
      "execution_count": null,
      "outputs": [
        {
          "output_type": "stream",
          "text": [
            "Downloading...\n",
            "From: https://drive.google.com/uc?id=1e2N_1OxkeVzurW2ZdNHaoycMcSP9RrIZ\n",
            "To: /content/verification_train.csv\n",
            "133MB [00:01, 84.1MB/s]\n"
          ],
          "name": "stdout"
        }
      ]
    },
    {
      "cell_type": "code",
      "metadata": {
        "colab": {
          "base_uri": "https://localhost:8080/"
        },
        "id": "5ZZIKbLc6beJ",
        "outputId": "9b62e008-acf4-4896-f19f-b511b79c852f"
      },
      "source": [
        "!gdown --id '1tCSsIGrMXOkG0Bwm3qBUxKKzeffrT-CR'"
      ],
      "execution_count": null,
      "outputs": [
        {
          "output_type": "stream",
          "text": [
            "Downloading...\n",
            "From: https://drive.google.com/uc?id=1tCSsIGrMXOkG0Bwm3qBUxKKzeffrT-CR\n",
            "To: /content/verification_test.csv\n",
            "22.2MB [00:00, 60.7MB/s]\n"
          ],
          "name": "stdout"
        }
      ]
    },
    {
      "cell_type": "markdown",
      "metadata": {
        "id": "vy9i_zJN2x3K"
      },
      "source": [
        "# **Imports**\n",
        "\n",
        "---\n",
        "\n"
      ]
    },
    {
      "cell_type": "code",
      "metadata": {
        "id": "lM5m3zgwP61m"
      },
      "source": [
        "import pandas as pd\n",
        "import numpy as np\n",
        "\n",
        "import torch\n",
        "import torch.nn as nn\n",
        "import torch.nn.functional as F\n",
        "import torch.optim as optim\n",
        "from torch.optim import lr_scheduler\n",
        "from torch.autograd import Variable\n",
        "from torch.utils.data import DataLoader, Dataset\n",
        "from torchvision import transforms\n",
        "from torchvision.utils import make_grid\n",
        "\n",
        "import math\n",
        "import random\n",
        "\n",
        "from PIL import Image, ImageOps, ImageEnhance\n",
        "import numbers\n",
        "\n",
        "import matplotlib.pyplot as plt\n",
        "%matplotlib inline"
      ],
      "execution_count": null,
      "outputs": []
    },
    {
      "cell_type": "code",
      "metadata": {
        "colab": {
          "base_uri": "https://localhost:8080/"
        },
        "id": "YMk0J-nr6E7-",
        "outputId": "de58526e-0c23-469c-d1b4-4977ee5fa230"
      },
      "source": [
        "train_df = pd.read_csv('verification_train.csv')\n",
        "\n",
        "n_train = len(train_df)\n",
        "n_pixels = len(train_df.columns) - 1\n",
        "n_class = len(set(train_df['label']))\n",
        "\n",
        "print('Number of training samples: {0}'.format(n_train))\n",
        "print('Number of training pixels: {0}'.format(n_pixels))\n",
        "print('Number of classes: {0}'.format(n_class))"
      ],
      "execution_count": null,
      "outputs": [
        {
          "output_type": "stream",
          "text": [
            "Number of training samples: 60000\n",
            "Number of training pixels: 784\n",
            "Number of classes: 10\n"
          ],
          "name": "stdout"
        }
      ]
    },
    {
      "cell_type": "code",
      "metadata": {
        "colab": {
          "base_uri": "https://localhost:8080/"
        },
        "id": "C1JkRWLQ6koX",
        "outputId": "adfa406c-804b-4d65-f237-f247f5679645"
      },
      "source": [
        "test_df = pd.read_csv('verification_test.csv')\n",
        "\n",
        "n_test = len(test_df)\n",
        "n_pixels = len(test_df.columns)-1\n",
        "n_class = len(set(train_df['label']))\n",
        "\n",
        "print('Number of train samples: {0}'.format(n_test))\n",
        "print('Number of test pixels: {0}'.format(n_pixels))\n",
        "print('Number of classes: {0}'.format(n_class))"
      ],
      "execution_count": null,
      "outputs": [
        {
          "output_type": "stream",
          "text": [
            "Number of train samples: 10000\n",
            "Number of test pixels: 784\n",
            "Number of classes: 10\n"
          ],
          "name": "stdout"
        }
      ]
    },
    {
      "cell_type": "markdown",
      "metadata": {
        "id": "FLiAA5tI9TWH"
      },
      "source": [
        "# **Data Visualization**\n",
        "\n",
        "---\n",
        "\n"
      ]
    },
    {
      "cell_type": "code",
      "metadata": {
        "colab": {
          "base_uri": "https://localhost:8080/",
          "height": 339
        },
        "id": "_2_sG-nkMzNw",
        "outputId": "688c0f90-4f11-49d2-bf33-a71573dc1abc"
      },
      "source": [
        "plt.rcParams['figure.figsize'] = (8, 5)\n",
        "plt.bar(train_df['label'].value_counts().index, train_df['label'].value_counts())\n",
        "plt.xticks(np.arange(n_class))\n",
        "plt.xlabel('Class', fontsize=16)\n",
        "plt.ylabel('Count', fontsize=16)\n",
        "plt.grid('on', axis='y')"
      ],
      "execution_count": null,
      "outputs": [
        {
          "output_type": "display_data",
          "data": {
            "image/png": "[encoded data removed]",
            "text/plain": [
              "<Figure size 576x360 with 1 Axes>"
            ]
          },
          "metadata": {
            "needs_background": "light"
          }
        }
      ]
    },
    {
      "cell_type": "code",
      "metadata": {
        "colab": {
          "base_uri": "https://localhost:8080/",
          "height": 157
        },
        "id": "JgA6yiqQ650c",
        "outputId": "af75b386-d366-4f3b-a237-5b2efc1ca528"
      },
      "source": [
        "random_sel = np.random.randint(n_train, size=8)\n",
        "\n",
        "grid = make_grid(torch.Tensor((train_df.iloc[random_sel, 1:].values/255.).reshape((-1, 28, 28))).unsqueeze(1), nrow=8)\n",
        "plt.rcParams['figure.figsize'] = (16, 2)\n",
        "plt.imshow(grid.numpy().transpose((1,2,0)))\n",
        "plt.axis('off')\n",
        "print(*list(train_df.iloc[random_sel, 0].values), sep = ', ')"
      ],
      "execution_count": null,
      "outputs": [
        {
          "output_type": "stream",
          "text": [
            "0, 3, 8, 2, 2, 0, 0, 3\n"
          ],
          "name": "stdout"
        },
        {
          "output_type": "display_data",
          "data": {
            "image/png": "[encoded data removed]",
            "text/plain": [
              "<Figure size 1152x144 with 1 Axes>"
            ]
          },
          "metadata": {
            "needs_background": "light"
          }
        }
      ]
    },
    {
      "cell_type": "markdown",
      "metadata": {
        "id": "mdAwK4i9hSlj"
      },
      "source": [
        "# **Data Preprocessing**\n",
        "\n",
        "---\n",
        "\n"
      ]
    },
    {
      "cell_type": "code",
      "metadata": {
        "id": "telGPHINZJgx"
      },
      "source": [
        "class processDataset(Dataset):\n",
        "    \n",
        "    def __init__(self, file_path, \n",
        "                 transform = transforms.Compose([transforms.ToPILImage(), transforms.ToTensor(), \n",
        "                     transforms.Normalize(mean=(0.5,), std=(0.5,))])\n",
        "                ):\n",
        "        \n",
        "        df = pd.read_csv(file_path)\n",
        "        \n",
        "        # training data\n",
        "        self.X = df.iloc[:,1:].values.reshape((-1,28,28)).astype(np.uint8)[:,:,:,None]\n",
        "        self.y = torch.from_numpy(df.iloc[:,0].values)\n",
        "            \n",
        "        self.transform = transform\n",
        "    \n",
        "    def __len__(self):\n",
        "        return len(self.X)\n",
        "\n",
        "    def __getitem__(self, idx):\n",
        "        return self.transform(self.X[idx]), self.y[idx]"
      ],
      "execution_count": null,
      "outputs": []
    },
    {
      "cell_type": "code",
      "metadata": {
        "id": "__Xdm56fcj1k"
      },
      "source": [
        "train_dataset = processDataset('verification_train.csv', transform= transforms.Compose(\n",
        "                            [transforms.ToPILImage(),\n",
        "                            transforms.ToTensor(), \n",
        "                            transforms.Normalize(mean=(0.5,), std=(0.5,))]))\n",
        "test_dataset = processDataset('verification_test.csv', transform= transforms.Compose(\n",
        "                            [transforms.ToPILImage(),\n",
        "                            transforms.ToTensor(), \n",
        "                            transforms.Normalize(mean=(0.5,), std=(0.5,))]))"
      ],
      "execution_count": null,
      "outputs": []
    },
    {
      "cell_type": "code",
      "metadata": {
        "colab": {
          "base_uri": "https://localhost:8080/"
        },
        "id": "piGp-i0Johe6",
        "outputId": "7410e1ce-6c93-4780-ce6b-95bcf8d61c45"
      },
      "source": [
        "print(len(train_dataset), len(test_dataset))"
      ],
      "execution_count": null,
      "outputs": [
        {
          "output_type": "stream",
          "text": [
            "60000 10000\n"
          ],
          "name": "stdout"
        }
      ]
    },
    {
      "cell_type": "markdown",
      "metadata": {
        "id": "muXO0kOLMQ4_"
      },
      "source": [
        "# **EXP_03_model_1**\n",
        "\n",
        "---\n",
        "\n"
      ]
    },
    {
      "cell_type": "code",
      "metadata": {
        "id": "bLtFdOPL-DMD"
      },
      "source": [
        "# Hyperparameters\n",
        "batch_size = 20\n",
        "num_iters = 20000\n",
        "input_dim = 28*28\n",
        "output_dim = 10\n",
        "learning_rate = 0.01"
      ],
      "execution_count": null,
      "outputs": []
    },
    {
      "cell_type": "code",
      "metadata": {
        "colab": {
          "base_uri": "https://localhost:8080/"
        },
        "id": "bRU8s_P69waA",
        "outputId": "48a81d31-0d63-426c-a166-8ec8b28f2a9f"
      },
      "source": [
        "import torch\n",
        "import torch.nn as nn\n",
        "import torchvision.transforms as transforms\n",
        "import torchvision.datasets as dsets\n",
        "\n",
        "device = torch.device(\"cuda:0\" if torch.cuda.is_available() else \"cpu\")\n",
        "\n",
        "num_epochs = num_iters / (len(train_dataset) / batch_size)\n",
        "num_epochs = int(num_epochs)\n",
        "\n",
        "train_loader = torch.utils.data.DataLoader(dataset=train_dataset, \n",
        "                                           batch_size=batch_size, \n",
        "                                           shuffle=True)\n",
        "\n",
        "test_loader = torch.utils.data.DataLoader(dataset=test_dataset, \n",
        "                                          batch_size=batch_size, \n",
        "                                          shuffle=False) \n",
        "\n",
        "class DeepNeuralNetworkModel(nn.Module):\n",
        "    def __init__(self, input_size, num_classes):\n",
        "        super().__init__()\n",
        "        self.linear_1 = nn.Linear(input_size, 92)\n",
        "        self.relu_1 = nn.ReLU()\n",
        "\n",
        "        self.linear_2 = nn.Linear(92, 40)\n",
        "        self.relu_2 = nn.ReLU()\n",
        "\n",
        "        self.linear_3 = nn.Linear(40, 30)\n",
        "        self.relu_3 = nn.ReLU()\n",
        "\n",
        "        self.linear_4 = nn.Linear(30, 22)\n",
        "        self.relu_4 = nn.ReLU()\n",
        "\n",
        "        self.linear_5 = nn.Linear(22, 16)\n",
        "        self.relu_5 = nn.ReLU()\n",
        "\n",
        "        self.linear_6 = nn.Linear(16, 13)\n",
        "        self.relu_6 = nn.ReLU()\n",
        "\n",
        "        self.linear_out = nn.Linear(13, num_classes)\n",
        "\n",
        "    def forward(self, x):\n",
        "        \n",
        "        out  = self.linear_1(x)\n",
        "        out = self.relu_1(out)\n",
        "        \n",
        "        out  = self.linear_2(out)\n",
        "        out = self.relu_2(out)\n",
        "\n",
        "        out  = self.linear_3(out)\n",
        "        out = self.relu_3(out)\n",
        "\n",
        "        out  = self.linear_4(out)\n",
        "        out = self.relu_4(out)\n",
        "\n",
        "        out  = self.linear_5(out)\n",
        "        out = self.relu_5(out)\n",
        "\n",
        "        out  = self.linear_6(out)\n",
        "        out = self.relu_6(out)\n",
        "        \n",
        "        probas  = self.linear_out(out)\n",
        "        return probas\n",
        "\n",
        "# INSTANTIATE MODEL CLASS\n",
        "\n",
        "model = DeepNeuralNetworkModel(input_size = input_dim,\n",
        "                               num_classes = output_dim)\n",
        "# To enable GPU\n",
        "model.to(device)\n",
        "\n",
        "# INSTANTIATE LOSS & OPTIMIZER CLASS\n",
        "criterion = nn.CrossEntropyLoss()\n",
        "optimizer = torch.optim.SGD(model.parameters(), lr=learning_rate)\n",
        "\n",
        "iter = 0\n",
        "test_loss_min = 9999999\n",
        "iter_data,train_loss_data, test_loss_data, acc_data = [], [], [], []\n",
        "\n",
        "for epoch in range(num_epochs):\n",
        "    train_loss = 0.0\n",
        "    test_loss = 0.0\n",
        "    for i, (images, labels) in enumerate(train_loader):\n",
        "\n",
        "        images = images.view(-1, input_dim).to(device)\n",
        "        labels = labels.to(device)\n",
        "\n",
        "        # Clear gradients w.r.t. parameters\n",
        "        optimizer.zero_grad()\n",
        "\n",
        "        # Forward pass to get output/logits\n",
        "        outputs = model(images) \n",
        "\n",
        "        # Calculate Loss: softmax --> cross entropy loss\n",
        "        loss = criterion(outputs, labels)\n",
        "\n",
        "        # Getting gradients w.r.t. parameters\n",
        "        loss.backward()\n",
        "\n",
        "        # Updating parameters\n",
        "        optimizer.step()\n",
        "\n",
        "        train_loss += loss.item() * images.size(0)\n",
        "\n",
        "        iter += 1\n",
        "\n",
        "        if iter % 500 == 0:\n",
        "            # Calculate Accuracy         \n",
        "            correct = 0\n",
        "            total = 0\n",
        "            # Iterate through test dataset\n",
        "            for images, labels in test_loader:\n",
        "               \n",
        "                images = images.view(-1, input_dim).to(device)\n",
        "                labels = labels.to(device)\n",
        "\n",
        "                # Forward pass only to get logits/output\n",
        "                outputs = model(images)\n",
        "\n",
        "                loss = criterion(outputs, labels)\n",
        "\n",
        "                test_loss += loss.item() * images.size(0)\n",
        "\n",
        "                # Get predictions from the maximum value\n",
        "                _, predicted = torch.max(outputs, 1)\n",
        "\n",
        "                # Total number of labels\n",
        "                total += labels.size(0)\n",
        "\n",
        "\n",
        "                # Total correct predictions\n",
        "                if torch.cuda.is_available():\n",
        "                    correct += (predicted.cpu() == labels.cpu()).sum() \n",
        "                else:\n",
        "                    correct += (predicted == labels).sum()\n",
        "\n",
        "            train_loss = train_loss / len(train_loader.dataset)\n",
        "            test_loss = test_loss / len(test_loader.dataset)\n",
        "            train_loss_data.append(train_loss)\n",
        "            test_loss_data.append(test_loss)\n",
        "            accuracy = 100 * correct.item() / total\n",
        "            acc_data.append(accuracy)\n",
        "            iter_data.append(iter)\n",
        "\n",
        "            # Print Loss\n",
        "            print('Iteration: {}. Train_Loss: {}. Valid_Loss: {}. Accuracy: {}'.format(iter, train_loss, test_loss, accuracy))\n",
        "\n",
        "            if test_loss <= test_loss_min:\n",
        "              print('***Validation loss decreased ({:.6f} --> {:.6f}). Saving model ...***'.format(test_loss_min,test_loss))\n",
        "              torch.save(model.state_dict(), 'EXP_01_dataset_2.pt')\n",
        "              test_loss_min = test_loss"
      ],
      "execution_count": null,
      "outputs": [
        {
          "output_type": "stream",
          "text": [
            "Iteration: 500. Train_Loss: 0.38457299788792926. Valid_Loss: 2.3046784138679506. Accuracy: 10.0\n",
            "***Validation loss decreased (9999999.000000 --> 2.304678). Saving model ...***\n",
            "Iteration: 1000. Train_Loss: 0.3838052943391137. Valid_Loss: 2.301824688479662. Accuracy: 10.0\n",
            "***Validation loss decreased (2.304678 --> 2.301825). Saving model ...***\n",
            "Iteration: 1500. Train_Loss: 0.38323565068277227. Valid_Loss: 2.2959970114826724. Accuracy: 16.45\n",
            "***Validation loss decreased (2.301825 --> 2.295997). Saving model ...***\n",
            "Iteration: 2000. Train_Loss: 0.3812433736595416. Valid_Loss: 2.2715682442056955. Accuracy: 19.46\n",
            "***Validation loss decreased (2.295997 --> 2.271568). Saving model ...***\n",
            "Iteration: 2500. Train_Loss: 0.35429136944058387. Valid_Loss: 1.8820683426326024. Accuracy: 19.65\n",
            "***Validation loss decreased (2.271568 --> 1.882068). Saving model ...***\n",
            "Iteration: 3000. Train_Loss: 0.29033527416272165. Valid_Loss: 1.6250838350481458. Accuracy: 28.41\n",
            "***Validation loss decreased (1.882068 --> 1.625084). Saving model ...***\n",
            "Iteration: 3500. Train_Loss: 0.2584137293100357. Valid_Loss: 1.4329111444950104. Accuracy: 43.81\n",
            "***Validation loss decreased (1.625084 --> 1.432911). Saving model ...***\n",
            "Iteration: 4000. Train_Loss: 0.21552015320753456. Valid_Loss: 1.214543886898637. Accuracy: 52.81\n",
            "***Validation loss decreased (1.432911 --> 1.214544). Saving model ...***\n",
            "Iteration: 4500. Train_Loss: 0.1815870730958012. Valid_Loss: 0.9617799092837093. Accuracy: 63.63\n",
            "***Validation loss decreased (1.214544 --> 0.961780). Saving model ...***\n",
            "Iteration: 5000. Train_Loss: 0.15379805539602848. Valid_Loss: 0.8493088516550215. Accuracy: 66.06\n",
            "***Validation loss decreased (0.961780 --> 0.849309). Saving model ...***\n",
            "Iteration: 5500. Train_Loss: 0.14047305783946887. Valid_Loss: 1.0248674409273562. Accuracy: 65.51\n",
            "Iteration: 6000. Train_Loss: 0.1262641795643504. Valid_Loss: 0.7497495395685899. Accuracy: 73.57\n",
            "***Validation loss decreased (0.849309 --> 0.749750). Saving model ...***\n",
            "Iteration: 6500. Train_Loss: 0.118871201445659. Valid_Loss: 0.6656105989217758. Accuracy: 77.56\n",
            "***Validation loss decreased (0.749750 --> 0.665611). Saving model ...***\n",
            "Iteration: 7000. Train_Loss: 0.10713127994817777. Valid_Loss: 0.6392634444701076. Accuracy: 77.41\n",
            "***Validation loss decreased (0.665611 --> 0.639263). Saving model ...***\n",
            "Iteration: 7500. Train_Loss: 0.10330502801102802. Valid_Loss: 0.5737197971098946. Accuracy: 79.0\n",
            "***Validation loss decreased (0.639263 --> 0.573720). Saving model ...***\n",
            "Iteration: 8000. Train_Loss: 0.09543491896566632. Valid_Loss: 0.5412339116988157. Accuracy: 81.69\n",
            "***Validation loss decreased (0.573720 --> 0.541234). Saving model ...***\n",
            "Iteration: 8500. Train_Loss: 0.09219173130368136. Valid_Loss: 0.5297267050340361. Accuracy: 81.38\n",
            "***Validation loss decreased (0.541234 --> 0.529727). Saving model ...***\n",
            "Iteration: 9000. Train_Loss: 0.09043057637471903. Valid_Loss: 0.5202778627237756. Accuracy: 81.65\n",
            "***Validation loss decreased (0.529727 --> 0.520278). Saving model ...***\n",
            "Iteration: 9500. Train_Loss: 0.08350795927395423. Valid_Loss: 0.5331163065731526. Accuracy: 81.64\n",
            "Iteration: 10000. Train_Loss: 0.08537754590170628. Valid_Loss: 0.4717337840493232. Accuracy: 83.77\n",
            "***Validation loss decreased (0.520278 --> 0.471734). Saving model ...***\n",
            "Iteration: 10500. Train_Loss: 0.07989698074760948. Valid_Loss: 0.46831431889289316. Accuracy: 83.84\n",
            "***Validation loss decreased (0.471734 --> 0.468314). Saving model ...***\n",
            "Iteration: 11000. Train_Loss: 0.08061287951360518. Valid_Loss: 0.4605965547143457. Accuracy: 84.23\n",
            "***Validation loss decreased (0.468314 --> 0.460597). Saving model ...***\n",
            "Iteration: 11500. Train_Loss: 0.07993963870872257. Valid_Loss: 0.45749739100269854. Accuracy: 84.02\n",
            "***Validation loss decreased (0.460597 --> 0.457497). Saving model ...***\n",
            "Iteration: 12000. Train_Loss: 0.07845888218490836. Valid_Loss: 0.4459223821315067. Accuracy: 84.08\n",
            "***Validation loss decreased (0.457497 --> 0.445922). Saving model ...***\n",
            "Iteration: 12500. Train_Loss: 0.07217082353432973. Valid_Loss: 0.4612938144505024. Accuracy: 84.16\n",
            "Iteration: 13000. Train_Loss: 0.07349210436691377. Valid_Loss: 0.4457435405460865. Accuracy: 84.29\n",
            "***Validation loss decreased (0.445922 --> 0.445744). Saving model ...***\n",
            "Iteration: 13500. Train_Loss: 0.07303117484391655. Valid_Loss: 0.4151714090446254. Accuracy: 85.33\n",
            "***Validation loss decreased (0.445744 --> 0.415171). Saving model ...***\n",
            "Iteration: 14000. Train_Loss: 0.07280327669510751. Valid_Loss: 0.4250962514901553. Accuracy: 85.27\n",
            "Iteration: 14500. Train_Loss: 0.07067136081933838. Valid_Loss: 0.406714818919492. Accuracy: 85.47\n",
            "***Validation loss decreased (0.415171 --> 0.406715). Saving model ...***\n",
            "Iteration: 15000. Train_Loss: 0.07005401899783362. Valid_Loss: 0.4025692234031404. Accuracy: 86.02\n",
            "***Validation loss decreased (0.406715 --> 0.402569). Saving model ...***\n",
            "Iteration: 15500. Train_Loss: 0.06630702871456742. Valid_Loss: 0.4103806821927428. Accuracy: 85.51\n",
            "Iteration: 16000. Train_Loss: 0.06797259933237539. Valid_Loss: 0.3937928856184922. Accuracy: 85.95\n",
            "***Validation loss decreased (0.402569 --> 0.393793). Saving model ...***\n",
            "Iteration: 16500. Train_Loss: 0.07023406694554396. Valid_Loss: 0.4137013071078139. Accuracy: 85.42\n",
            "Iteration: 17000. Train_Loss: 0.06475779299771955. Valid_Loss: 0.4119959700476457. Accuracy: 85.66\n",
            "Iteration: 17500. Train_Loss: 0.06622053325224003. Valid_Loss: 0.44886738231259954. Accuracy: 83.97\n",
            "Iteration: 18000. Train_Loss: 0.06493251245090366. Valid_Loss: 0.37754298155026683. Accuracy: 86.54\n",
            "***Validation loss decreased (0.393793 --> 0.377543). Saving model ...***\n"
          ],
          "name": "stdout"
        }
      ]
    },
    {
      "cell_type": "markdown",
      "metadata": {
        "id": "59bFd5eI3dOh"
      },
      "source": [
        "## **Loss Graph**\n",
        "\n",
        "---\n",
        "\n"
      ]
    },
    {
      "cell_type": "code",
      "metadata": {
        "id": "o2z5ysMtLrf5",
        "colab": {
          "base_uri": "https://localhost:8080/",
          "height": 350
        },
        "outputId": "34a3c0c6-8c61-4096-87da-cf109251486c"
      },
      "source": [
        "import matplotlib.pyplot as plt\n",
        "plt.plot(iter_data, train_loss_data, 'c', label='Training loss')\n",
        "plt.plot(iter_data, test_loss_data, 'm', label='validation loss')\n",
        "plt.title('Training and Validation loss')\n",
        "plt.xlabel('Iteration')\n",
        "plt.ylabel('Loss')\n",
        "plt.legend()\n",
        "plt.show()"
      ],
      "execution_count": null,
      "outputs": [
        {
          "output_type": "display_data",
          "data": {
            "image/png": "[encoded data removed]",
            "text/plain": [
              "<Figure size 576x360 with 1 Axes>"
            ]
          },
          "metadata": {
            "needs_background": "light"
          }
        }
      ]
    },
    {
      "cell_type": "markdown",
      "metadata": {
        "id": "8Ln4MpL_8CQE"
      },
      "source": [
        "## **Accuracy Graph**\n",
        "\n",
        "---\n",
        "\n"
      ]
    },
    {
      "cell_type": "code",
      "metadata": {
        "colab": {
          "base_uri": "https://localhost:8080/",
          "height": 350
        },
        "id": "x4c3euLUKVmR",
        "outputId": "9840da59-7b2d-4d79-b8cc-983e041a1446"
      },
      "source": [
        "import numpy as np\n",
        "import matplotlib.pyplot as plt\n",
        "plt.plot(iter_data, acc_data, 'g', label='Accuracy')\n",
        "plt.title('Accuracy Graph')\n",
        "plt.xlabel('Iteration')\n",
        "plt.ylabel('Accuracy')\n",
        "plt.legend()\n",
        "plt.show()"
      ],
      "execution_count": null,
      "outputs": [
        {
          "output_type": "display_data",
          "data": {
            "image/png": "[encoded data removed]",
            "text/plain": [
              "<Figure size 576x360 with 1 Axes>"
            ]
          },
          "metadata": {
            "needs_background": "light"
          }
        }
      ]
    },
    {
      "cell_type": "markdown",
      "metadata": {
        "id": "ooaWornKkW2d"
      },
      "source": [
        "# **EXP_03_model_2**\n",
        "\n",
        "---\n",
        "\n"
      ]
    },
    {
      "cell_type": "code",
      "metadata": {
        "id": "Beni7LRjkdTr"
      },
      "source": [
        "# Hyperparameters\n",
        "batch_size = 32\n",
        "num_iters = 125000\n",
        "input_dim = 28*28\n",
        "output_dim = 10\n",
        "learning_rate = 0.0001"
      ],
      "execution_count": null,
      "outputs": []
    },
    {
      "cell_type": "code",
      "metadata": {
        "colab": {
          "base_uri": "https://localhost:8080/"
        },
        "id": "k7N6wsEtki3o",
        "outputId": "1298f339-4158-4242-8baa-d5019c918d58"
      },
      "source": [
        "import torch\n",
        "import torch.nn as nn\n",
        "import torchvision.transforms as transforms\n",
        "import torchvision.datasets as dsets\n",
        "\n",
        "device = torch.device(\"cuda:0\" if torch.cuda.is_available() else \"cpu\")\n",
        "\n",
        "num_epochs = num_iters / (len(train_dataset) / batch_size)\n",
        "num_epochs = int(num_epochs)\n",
        "\n",
        "train_loader = torch.utils.data.DataLoader(dataset=train_dataset, \n",
        "                                           batch_size=batch_size, \n",
        "                                           shuffle=True)\n",
        "\n",
        "test_loader = torch.utils.data.DataLoader(dataset=test_dataset, \n",
        "                                          batch_size=batch_size, \n",
        "                                          shuffle=False) \n",
        "\n",
        "class DeepNeuralNetworkModel(nn.Module):\n",
        "    def __init__(self, input_size, num_classes):\n",
        "        super().__init__()\n",
        "        self.linear_1 = nn.Linear(input_size, 512)\n",
        "        self.relu_1 = nn.ReLU()\n",
        "\n",
        "        self.linear_2 = nn.Linear(512, 256)\n",
        "        self.relu_2 = nn.ReLU()\n",
        "\n",
        "        self.linear_3 = nn.Linear(256, 128)\n",
        "        self.relu_3 = nn.ReLU()\n",
        "\n",
        "        self.linear_out = nn.Linear(128, num_classes)\n",
        "        self.relu_out = nn.ReLU()\n",
        "\n",
        "    def forward(self, x):\n",
        "        \n",
        "        out  = self.linear_1(x)\n",
        "        out = self.relu_1(out)\n",
        "        \n",
        "        out  = self.linear_2(out)\n",
        "        out = self.relu_2(out)\n",
        "\n",
        "        out  = self.linear_3(out)\n",
        "        out = self.relu_3(out)\n",
        "        \n",
        "        probas  = self.linear_out(out)\n",
        "        probas  = self.relu_out(out)\n",
        "        return probas\n",
        "\n",
        "# INSTANTIATE MODEL CLASS\n",
        "\n",
        "model = DeepNeuralNetworkModel(input_size = input_dim,\n",
        "                               num_classes = output_dim)\n",
        "# To enable GPU\n",
        "model.to(device)\n",
        "\n",
        "# INSTANTIATE LOSS & OPTIMIZER CLASS\n",
        "criterion = nn.CrossEntropyLoss()\n",
        "optimizer = torch.optim.Adam(model.parameters(), lr=learning_rate)\n",
        "\n",
        "iter = 0\n",
        "test_loss_min = 9999999\n",
        "iter_data,train_loss_data, test_loss_data, acc_data = [], [], [], []\n",
        "\n",
        "for epoch in range(num_epochs):\n",
        "    train_loss = 0.0\n",
        "    test_loss = 0.0\n",
        "    for i, (images, labels) in enumerate(train_loader):\n",
        "\n",
        "        images = images.view(-1, input_dim).to(device)\n",
        "        labels = labels.to(device)\n",
        "\n",
        "        # Clear gradients w.r.t. parameters\n",
        "        optimizer.zero_grad()\n",
        "\n",
        "        # Forward pass to get output/logits\n",
        "        outputs = model(images) \n",
        "\n",
        "        # Calculate Loss: softmax --> cross entropy loss\n",
        "        loss = criterion(outputs, labels)\n",
        "\n",
        "        # Getting gradients w.r.t. parameters\n",
        "        loss.backward()\n",
        "\n",
        "        # Updating parameters\n",
        "        optimizer.step()\n",
        "\n",
        "        train_loss += loss.item() * images.size(0)\n",
        "\n",
        "        iter += 1\n",
        "\n",
        "        if iter % 500 == 0:\n",
        "            # Calculate Accuracy         \n",
        "            correct = 0\n",
        "            total = 0\n",
        "            # Iterate through test dataset\n",
        "            for images, labels in test_loader:\n",
        "               \n",
        "                images = images.view(-1, input_dim).to(device)\n",
        "                labels = labels.to(device)\n",
        "\n",
        "                # Forward pass only to get logits/output\n",
        "                outputs = model(images)\n",
        "\n",
        "                loss = criterion(outputs, labels)\n",
        "\n",
        "                test_loss += loss.item() * images.size(0)\n",
        "\n",
        "                # Get predictions from the maximum value\n",
        "                _, predicted = torch.max(outputs, 1)\n",
        "\n",
        "                # Total number of labels\n",
        "                total += labels.size(0)\n",
        "\n",
        "\n",
        "                # Total correct predictions\n",
        "                if torch.cuda.is_available():\n",
        "                    correct += (predicted.cpu() == labels.cpu()).sum() \n",
        "                else:\n",
        "                    correct += (predicted == labels).sum()\n",
        "\n",
        "            train_loss = train_loss / len(train_loader.dataset)\n",
        "            test_loss = test_loss / len(test_loader.dataset)\n",
        "            train_loss_data.append(train_loss)\n",
        "            test_loss_data.append(test_loss)\n",
        "            accuracy = 100 * correct.item() / total\n",
        "            acc_data.append(accuracy)\n",
        "            iter_data.append(iter)\n",
        "\n",
        "            # Print Loss\n",
        "            print('Iteration: {}. Train_Loss: {}. Valid_Loss: {}. Accuracy: {}'.format(iter, train_loss, test_loss, accuracy))\n",
        "\n",
        "            if test_loss <= test_loss_min:\n",
        "              print('***Validation loss decreased ({:.6f} --> {:.6f}). Saving model ...***'.format(test_loss_min,test_loss))\n",
        "              torch.save(model.state_dict(), 'EXP_02_trial_2.pt')\n",
        "              test_loss_min = test_loss"
      ],
      "execution_count": null,
      "outputs": [
        {
          "output_type": "stream",
          "text": [
            "Iteration: 500. Train_Loss: 0.5168965693473816. Valid_Loss: 1.54805825214386. Accuracy: 69.94\n",
            "***Validation loss decreased (9999999.000000 --> 1.548058). Saving model ...***\n",
            "Iteration: 1000. Train_Loss: 0.40711862507402263. Valid_Loss: 1.4592417168836405. Accuracy: 71.25\n",
            "***Validation loss decreased (1.548058 --> 1.459242). Saving model ...***\n",
            "Iteration: 1500. Train_Loss: 0.38308984361997295. Valid_Loss: 1.4208376620619318. Accuracy: 72.24\n",
            "***Validation loss decreased (1.459242 --> 1.420838). Saving model ...***\n",
            "Iteration: 2000. Train_Loss: 0.0933558051109314. Valid_Loss: 1.403110126066208. Accuracy: 72.15\n",
            "***Validation loss decreased (1.420838 --> 1.403110). Saving model ...***\n",
            "Iteration: 2500. Train_Loss: 0.3683851184790405. Valid_Loss: 1.385084465847354. Accuracy: 72.57\n",
            "***Validation loss decreased (1.403110 --> 1.385084). Saving model ...***\n",
            "Iteration: 3000. Train_Loss: 0.37110486354500444. Valid_Loss: 1.3748235484913693. Accuracy: 72.73\n",
            "***Validation loss decreased (1.385084 --> 1.374824). Saving model ...***\n",
            "Iteration: 3500. Train_Loss: 0.3647186237915897. Valid_Loss: 1.3668546684720213. Accuracy: 73.22\n",
            "***Validation loss decreased (1.374824 --> 1.366855). Saving model ...***\n",
            "Iteration: 4000. Train_Loss: 0.18033778610229492. Valid_Loss: 1.3475451661348343. Accuracy: 73.57\n",
            "***Validation loss decreased (1.366855 --> 1.347545). Saving model ...***\n",
            "Iteration: 4500. Train_Loss: 0.3585521916846339. Valid_Loss: 1.3428575441141246. Accuracy: 73.42\n",
            "***Validation loss decreased (1.347545 --> 1.342858). Saving model ...***\n",
            "Iteration: 5000. Train_Loss: 0.35474280324336604. Valid_Loss: 1.3420736480896165. Accuracy: 73.41\n",
            "***Validation loss decreased (1.342858 --> 1.342074). Saving model ...***\n",
            "Iteration: 5500. Train_Loss: 0.35711723870896744. Valid_Loss: 1.32819328889538. Accuracy: 73.7\n",
            "***Validation loss decreased (1.342074 --> 1.328193). Saving model ...***\n",
            "Iteration: 6000. Train_Loss: 0.2650426326592763. Valid_Loss: 1.3286416202306748. Accuracy: 73.44\n",
            "Iteration: 6500. Train_Loss: 0.35318729774703317. Valid_Loss: 1.329834188100393. Accuracy: 73.43\n",
            "Iteration: 7000. Train_Loss: 0.3477918207442589. Valid_Loss: 1.3187837708438512. Accuracy: 73.8\n",
            "***Validation loss decreased (1.328193 --> 1.318784). Saving model ...***\n",
            "Iteration: 7500. Train_Loss: 0.3428313550417618. Valid_Loss: 1.3090244421969695. Accuracy: 73.81\n",
            "***Validation loss decreased (1.318784 --> 1.309024). Saving model ...***\n",
            "Iteration: 8000. Train_Loss: 0.34894771429697674. Valid_Loss: 1.315154250383377. Accuracy: 73.77\n",
            "Iteration: 8500. Train_Loss: 0.3444556615384176. Valid_Loss: 1.2994265693839313. Accuracy: 74.15\n",
            "***Validation loss decreased (1.309024 --> 1.299427). Saving model ...***\n",
            "Iteration: 9000. Train_Loss: 0.34396344901624926. Valid_Loss: 1.3077692341103. Accuracy: 73.88\n",
            "Iteration: 9500. Train_Loss: 0.08433505345980326. Valid_Loss: 1.300233588552475. Accuracy: 74.31\n",
            "Iteration: 10000. Train_Loss: 0.33490853916347846. Valid_Loss: 1.2910366315112447. Accuracy: 74.34\n",
            "***Validation loss decreased (1.299427 --> 1.291037). Saving model ...***\n",
            "Iteration: 10500. Train_Loss: 0.33293447032064377. Valid_Loss: 1.2922485147740292. Accuracy: 74.1\n",
            "Iteration: 11000. Train_Loss: 0.34528059713594356. Valid_Loss: 1.2877113846329333. Accuracy: 74.24\n",
            "***Validation loss decreased (1.291037 --> 1.287711). Saving model ...***\n",
            "Iteration: 11500. Train_Loss: 0.16517718537648518. Valid_Loss: 1.285164539027214. Accuracy: 74.53\n",
            "***Validation loss decreased (1.287711 --> 1.285165). Saving model ...***\n",
            "Iteration: 12000. Train_Loss: 0.2589140007826858. Valid_Loss: 0.8170286056462932. Accuracy: 79.51\n",
            "***Validation loss decreased (1.285165 --> 0.817029). Saving model ...***\n",
            "Iteration: 12500. Train_Loss: 0.20961838235071953. Valid_Loss: 0.8121908546769327. Accuracy: 79.38\n",
            "***Validation loss decreased (0.817029 --> 0.812191). Saving model ...***\n",
            "Iteration: 13000. Train_Loss: 0.2097204445013188. Valid_Loss: 0.8149552907312043. Accuracy: 79.43\n",
            "Iteration: 13500. Train_Loss: 0.1512393210887909. Valid_Loss: 0.8000689393758774. Accuracy: 79.51\n",
            "***Validation loss decreased (0.812191 --> 0.800069). Saving model ...***\n",
            "Iteration: 14000. Train_Loss: 0.20562526914949975. Valid_Loss: 0.79704201351053. Accuracy: 79.54\n",
            "***Validation loss decreased (0.800069 --> 0.797042). Saving model ...***\n",
            "Iteration: 14500. Train_Loss: 0.20714704516287205. Valid_Loss: 0.8139842388988837. Accuracy: 78.95\n",
            "Iteration: 15000. Train_Loss: 0.20181164709997224. Valid_Loss: 0.7972992300116813. Accuracy: 79.4\n",
            "Iteration: 15500. Train_Loss: 0.20059583798249564. Valid_Loss: 0.7917969514131546. Accuracy: 79.74\n",
            "***Validation loss decreased (0.797042 --> 0.791797). Saving model ...***\n",
            "Iteration: 16000. Train_Loss: 0.2039331011808937. Valid_Loss: 0.7870203656463742. Accuracy: 79.81\n",
            "***Validation loss decreased (0.791797 --> 0.787020). Saving model ...***\n",
            "Iteration: 16500. Train_Loss: 0.19805737387904332. Valid_Loss: 0.8079135970751694. Accuracy: 79.72\n",
            "Iteration: 17000. Train_Loss: 0.04890380482673645. Valid_Loss: 0.7936032518625259. Accuracy: 79.76\n",
            "Iteration: 17500. Train_Loss: 0.19770379110743286. Valid_Loss: 0.7810498440335679. Accuracy: 80.0\n",
            "***Validation loss decreased (0.787020 --> 0.781050). Saving model ...***\n",
            "Iteration: 18000. Train_Loss: 0.19570779873451336. Valid_Loss: 0.7885510873910196. Accuracy: 79.93\n",
            "Iteration: 18500. Train_Loss: 0.19776509025098113. Valid_Loss: 0.7924530210728657. Accuracy: 79.69\n",
            "Iteration: 19000. Train_Loss: 0.09432566738128662. Valid_Loss: 0.7790342732191086. Accuracy: 80.03\n",
            "***Validation loss decreased (0.781050 --> 0.779034). Saving model ...***\n",
            "Iteration: 19500. Train_Loss: 0.1908514459948699. Valid_Loss: 0.8048463963882517. Accuracy: 79.38\n",
            "Iteration: 20000. Train_Loss: 0.1951499173481597. Valid_Loss: 0.7794568305363596. Accuracy: 80.25\n",
            "Iteration: 20500. Train_Loss: 0.19765749754142337. Valid_Loss: 0.7821713802552734. Accuracy: 80.06\n",
            "Iteration: 21000. Train_Loss: 0.14359800146420798. Valid_Loss: 0.7808701051712036. Accuracy: 79.96\n",
            "Iteration: 21500. Train_Loss: 0.19439999526211396. Valid_Loss: 0.7891711339856529. Accuracy: 79.98\n",
            "Iteration: 22000. Train_Loss: 0.18997929620217374. Valid_Loss: 0.7784343994294157. Accuracy: 80.2\n",
            "***Validation loss decreased (0.779034 --> 0.778434). Saving model ...***\n",
            "Iteration: 22500. Train_Loss: 0.1904987847523768. Valid_Loss: 0.7934773576382462. Accuracy: 79.6\n",
            "Iteration: 23000. Train_Loss: 0.18811580766836802. Valid_Loss: 0.7826329732179642. Accuracy: 80.05\n",
            "Iteration: 23500. Train_Loss: 0.1889596308425449. Valid_Loss: 0.7705228897478604. Accuracy: 80.41\n",
            "***Validation loss decreased (0.778434 --> 0.770523). Saving model ...***\n",
            "Iteration: 24000. Train_Loss: 0.19002344581339947. Valid_Loss: 0.7765328115281717. Accuracy: 80.4\n",
            "Iteration: 24500. Train_Loss: 0.046818122231960295. Valid_Loss: 0.7972388427495957. Accuracy: 79.82\n",
            "Iteration: 25000. Train_Loss: 0.18515114940976043. Valid_Loss: 0.7776532039419913. Accuracy: 80.07\n",
            "Iteration: 25500. Train_Loss: 0.18665203852735587. Valid_Loss: 0.8175213585601785. Accuracy: 79.84\n",
            "Iteration: 26000. Train_Loss: 0.18526209667679389. Valid_Loss: 0.7790129198099206. Accuracy: 80.15\n",
            "Iteration: 26500. Train_Loss: 0.09274059319893518. Valid_Loss: 0.7622499329805374. Accuracy: 80.7\n",
            "***Validation loss decreased (0.770523 --> 0.762250). Saving model ...***\n",
            "Iteration: 27000. Train_Loss: 0.18455273116525417. Valid_Loss: 0.7811467116103864. Accuracy: 80.42\n",
            "Iteration: 27500. Train_Loss: 0.185798449247116. Valid_Loss: 0.7634296905226015. Accuracy: 80.51\n",
            "Iteration: 28000. Train_Loss: 0.18398026176960813. Valid_Loss: 0.7705442926455659. Accuracy: 80.48\n",
            "Iteration: 28500. Train_Loss: 0.14033596200942994. Valid_Loss: 0.7727789722681045. Accuracy: 80.48\n",
            "Iteration: 29000. Train_Loss: 0.18004566776230652. Valid_Loss: 0.7903755510314584. Accuracy: 79.48\n",
            "Iteration: 29500. Train_Loss: 0.1805693929623146. Valid_Loss: 0.7743099529107855. Accuracy: 80.33\n",
            "Iteration: 30000. Train_Loss: 0.18248796995451919. Valid_Loss: 0.7706525280316527. Accuracy: 80.38\n",
            "Iteration: 30500. Train_Loss: 0.18016081747611365. Valid_Loss: 0.7792750897169113. Accuracy: 80.35\n",
            "Iteration: 31000. Train_Loss: 0.1793559118955826. Valid_Loss: 0.7698841248661494. Accuracy: 80.48\n",
            "Iteration: 31500. Train_Loss: 0.17823163321105118. Valid_Loss: 0.7746944542900195. Accuracy: 80.22\n",
            "Iteration: 32000. Train_Loss: 0.042695983641346295. Valid_Loss: 0.7785792984008789. Accuracy: 80.38\n",
            "Iteration: 32500. Train_Loss: 0.17856546347115423. Valid_Loss: 0.7786618188921357. Accuracy: 80.33\n",
            "Iteration: 33000. Train_Loss: 0.17886311464642565. Valid_Loss: 0.768153238710919. Accuracy: 80.92\n",
            "Iteration: 33500. Train_Loss: 0.17792484114677592. Valid_Loss: 0.7689959521580156. Accuracy: 80.85\n",
            "Iteration: 34000. Train_Loss: 0.08724502002795537. Valid_Loss: 0.7713541746377945. Accuracy: 80.47\n",
            "Iteration: 34500. Train_Loss: 0.17612585322116409. Valid_Loss: 0.7857705265259767. Accuracy: 80.16\n",
            "Iteration: 35000. Train_Loss: 0.17528843702423838. Valid_Loss: 0.7721237214198706. Accuracy: 80.53\n",
            "Iteration: 35500. Train_Loss: 0.17532984349525996. Valid_Loss: 0.7750478944686233. Accuracy: 80.38\n",
            "Iteration: 36000. Train_Loss: 0.1328982701698939. Valid_Loss: 0.7801681339025498. Accuracy: 80.58\n",
            "Iteration: 36500. Train_Loss: 0.1744998624831286. Valid_Loss: 0.7771233129817176. Accuracy: 80.38\n",
            "Iteration: 37000. Train_Loss: 0.16953821217008913. Valid_Loss: 0.7813221006016763. Accuracy: 80.49\n",
            "Iteration: 37500. Train_Loss: 0.175893567253357. Valid_Loss: 0.785447933135315. Accuracy: 80.22\n",
            "Iteration: 38000. Train_Loss: 0.16946516161759695. Valid_Loss: 0.7750528838634491. Accuracy: 80.63\n",
            "Iteration: 38500. Train_Loss: 0.1754754973725686. Valid_Loss: 0.7845431086399793. Accuracy: 80.21\n",
            "Iteration: 39000. Train_Loss: 0.1682997330052874. Valid_Loss: 0.7755672116589246. Accuracy: 80.69\n",
            "Iteration: 39500. Train_Loss: 0.04125042608380318. Valid_Loss: 0.7692496088504791. Accuracy: 80.74\n",
            "Iteration: 40000. Train_Loss: 0.17097523511380802. Valid_Loss: 0.7809857508352136. Accuracy: 80.4\n",
            "Iteration: 40500. Train_Loss: 0.16842985584979273. Valid_Loss: 0.7643952758707684. Accuracy: 80.83\n",
            "Iteration: 41000. Train_Loss: 0.1662547213555102. Valid_Loss: 0.7834006405392447. Accuracy: 80.61\n",
            "Iteration: 41500. Train_Loss: 0.08399438901344936. Valid_Loss: 0.7816708036899567. Accuracy: 80.6\n",
            "Iteration: 42000. Train_Loss: 0.17034578284025914. Valid_Loss: 0.7723713327998781. Accuracy: 80.86\n",
            "Iteration: 42500. Train_Loss: 0.1649295002520019. Valid_Loss: 0.7961891025107061. Accuracy: 80.31\n",
            "Iteration: 43000. Train_Loss: 0.17159570903763224. Valid_Loss: 0.781275406793056. Accuracy: 80.58\n",
            "Iteration: 43500. Train_Loss: 0.12287269334793091. Valid_Loss: 0.7806227437019349. Accuracy: 80.56\n",
            "Iteration: 44000. Train_Loss: 0.17019589429270904. Valid_Loss: 0.7780983778499699. Accuracy: 80.48\n",
            "Iteration: 44500. Train_Loss: 0.16753283369618738. Valid_Loss: 0.7815431381497052. Accuracy: 80.73\n",
            "Iteration: 45000. Train_Loss: 0.16633709446245235. Valid_Loss: 0.7930747975471142. Accuracy: 80.37\n",
            "Iteration: 45500. Train_Loss: 0.16713579325675965. Valid_Loss: 0.7837557167291641. Accuracy: 80.7\n",
            "Iteration: 46000. Train_Loss: 0.16601762329370262. Valid_Loss: 0.7848810532030511. Accuracy: 80.71\n",
            "Iteration: 46500. Train_Loss: 0.16219201884818654. Valid_Loss: 0.7794563110289806. Accuracy: 80.98\n",
            "Iteration: 47000. Train_Loss: 0.04065747264623642. Valid_Loss: 0.7790760985136033. Accuracy: 81.03\n",
            "Iteration: 47500. Train_Loss: 0.16510421882788398. Valid_Loss: 0.7812677381276202. Accuracy: 80.56\n",
            "Iteration: 48000. Train_Loss: 0.1614755794705369. Valid_Loss: 0.7968364358281875. Accuracy: 80.45\n",
            "Iteration: 48500. Train_Loss: 0.16625349933770847. Valid_Loss: 0.7846985450089011. Accuracy: 80.83\n",
            "Iteration: 49000. Train_Loss: 0.08465083227107922. Valid_Loss: 0.7847186513662339. Accuracy: 80.94\n",
            "Iteration: 49500. Train_Loss: 0.1608241514556583. Valid_Loss: 0.7970665038961959. Accuracy: 80.64\n",
            "Iteration: 50000. Train_Loss: 0.1630457663292954. Valid_Loss: 0.8045024902159108. Accuracy: 80.43\n",
            "Iteration: 50500. Train_Loss: 0.1599832438687877. Valid_Loss: 0.7777970422032529. Accuracy: 80.98\n",
            "Iteration: 51000. Train_Loss: 0.12039208832979202. Valid_Loss: 0.8042247720479965. Accuracy: 80.38\n",
            "Iteration: 51500. Train_Loss: 0.1592966633578843. Valid_Loss: 0.7891966475052428. Accuracy: 80.89\n",
            "Iteration: 52000. Train_Loss: 0.16619165202034436. Valid_Loss: 0.7988015736974577. Accuracy: 80.76\n",
            "Iteration: 52500. Train_Loss: 0.16021456072851353. Valid_Loss: 0.7817053396614972. Accuracy: 81.18\n",
            "Iteration: 53000. Train_Loss: 0.15783055124729872. Valid_Loss: 0.7972982056617737. Accuracy: 80.83\n",
            "Iteration: 53500. Train_Loss: 0.16065974342351128. Valid_Loss: 0.7946349746716785. Accuracy: 80.64\n",
            "Iteration: 54000. Train_Loss: 0.16055599852027289. Valid_Loss: 0.7928578875458909. Accuracy: 81.01\n",
            "Iteration: 54500. Train_Loss: 0.03796665668884913. Valid_Loss: 0.7881968304634094. Accuracy: 81.02\n",
            "Iteration: 55000. Train_Loss: 0.15964278923153882. Valid_Loss: 0.7943419559745503. Accuracy: 80.57\n",
            "Iteration: 55500. Train_Loss: 0.15571443274126232. Valid_Loss: 0.7930055487786128. Accuracy: 80.7\n",
            "Iteration: 56000. Train_Loss: 0.16327023386227332. Valid_Loss: 0.7855210603081051. Accuracy: 80.78\n",
            "Iteration: 56500. Train_Loss: 0.07671611175537109. Valid_Loss: 0.799705973649025. Accuracy: 80.74\n",
            "Iteration: 57000. Train_Loss: 0.1599403301301376. Valid_Loss: 0.8172274426451707. Accuracy: 80.61\n",
            "Iteration: 57500. Train_Loss: 0.1557081639830924. Valid_Loss: 0.7962199641306781. Accuracy: 80.79\n",
            "Iteration: 58000. Train_Loss: 0.15713470799674603. Valid_Loss: 0.8169698389430149. Accuracy: 80.24\n",
            "Iteration: 58500. Train_Loss: 0.11719263205130895. Valid_Loss: 0.7954244364023209. Accuracy: 80.98\n",
            "Iteration: 59000. Train_Loss: 0.15184326675246312. Valid_Loss: 0.799782446668036. Accuracy: 80.79\n",
            "Iteration: 59500. Train_Loss: 0.1551329294873123. Valid_Loss: 0.8119739161661907. Accuracy: 80.31\n",
            "Iteration: 60000. Train_Loss: 0.16127535427874995. Valid_Loss: 0.7966765279399031. Accuracy: 81.16\n",
            "Iteration: 60500. Train_Loss: 0.15282002039750417. Valid_Loss: 0.8022506781816483. Accuracy: 80.95\n",
            "Iteration: 61000. Train_Loss: 0.1542208725641085. Valid_Loss: 0.8092729307944417. Accuracy: 80.49\n",
            "Iteration: 61500. Train_Loss: 0.15604878476251235. Valid_Loss: 0.7935956526682549. Accuracy: 81.17\n",
            "Iteration: 62000. Train_Loss: 0.03926653937896093. Valid_Loss: 0.8008419737815857. Accuracy: 80.98\n",
            "Iteration: 62500. Train_Loss: 0.1528758138330904. Valid_Loss: 0.7962708932565212. Accuracy: 80.92\n",
            "Iteration: 63000. Train_Loss: 0.15198635044450548. Valid_Loss: 0.8091114881561439. Accuracy: 80.82\n",
            "Iteration: 63500. Train_Loss: 0.1551256116577292. Valid_Loss: 0.8067978237045103. Accuracy: 80.84\n",
            "Iteration: 64000. Train_Loss: 0.07541000044941902. Valid_Loss: 0.8244914332389831. Accuracy: 80.48\n",
            "Iteration: 64500. Train_Loss: 0.15241869310226647. Valid_Loss: 0.8053622888497448. Accuracy: 80.83\n",
            "Iteration: 65000. Train_Loss: 0.14954620667282403. Valid_Loss: 0.8291565176074402. Accuracy: 80.75\n",
            "Iteration: 65500. Train_Loss: 0.15854359091422093. Valid_Loss: 0.8160295962214095. Accuracy: 80.69\n",
            "Iteration: 66000. Train_Loss: 0.11097049500743549. Valid_Loss: 0.804979463005066. Accuracy: 80.97\n",
            "Iteration: 66500. Train_Loss: 0.15076432121491865. Valid_Loss: 0.819069516577282. Accuracy: 80.83\n",
            "Iteration: 67000. Train_Loss: 0.15591925506351603. Valid_Loss: 0.8196580659758963. Accuracy: 80.72\n",
            "Iteration: 67500. Train_Loss: 0.15033868112566148. Valid_Loss: 0.8447011947418392. Accuracy: 80.61\n",
            "Iteration: 68000. Train_Loss: 0.1484128306398789. Valid_Loss: 0.8183473420858384. Accuracy: 80.64\n",
            "Iteration: 68500. Train_Loss: 0.14807605268271448. Valid_Loss: 0.8421407693274093. Accuracy: 80.62\n",
            "Iteration: 69000. Train_Loss: 0.1557166726965907. Valid_Loss: 0.8199165690039958. Accuracy: 80.89\n",
            "Iteration: 69500. Train_Loss: 0.03437122372786204. Valid_Loss: 0.8228406244277954. Accuracy: 81.3\n",
            "Iteration: 70000. Train_Loss: 0.14737885605439013. Valid_Loss: 0.8281335592203711. Accuracy: 80.97\n",
            "Iteration: 70500. Train_Loss: 0.1528157980252324. Valid_Loss: 0.8615427332973473. Accuracy: 80.7\n",
            "Iteration: 71000. Train_Loss: 0.15390611126239268. Valid_Loss: 0.843798931935607. Accuracy: 80.75\n",
            "Iteration: 71500. Train_Loss: 0.0745819447706143. Valid_Loss: 0.8328540944099426. Accuracy: 80.98\n",
            "Iteration: 72000. Train_Loss: 0.15275158490429036. Valid_Loss: 0.8617986784758472. Accuracy: 80.23\n",
            "Iteration: 72500. Train_Loss: 0.1484834999236805. Valid_Loss: 0.8363613467846948. Accuracy: 80.97\n",
            "Iteration: 73000. Train_Loss: 0.14676815900181797. Valid_Loss: 0.8308234457431379. Accuracy: 81.01\n",
            "Iteration: 73500. Train_Loss: 0.10983208228449026. Valid_Loss: 0.8507365143060684. Accuracy: 81.13\n",
            "Iteration: 74000. Train_Loss: 0.14936095137155872. Valid_Loss: 0.8460641033307289. Accuracy: 80.59\n",
            "Iteration: 74500. Train_Loss: 0.1477620937992564. Valid_Loss: 0.8403304347527708. Accuracy: 80.61\n",
            "Iteration: 75000. Train_Loss: 0.1503323735699696. Valid_Loss: 0.8594742391420317. Accuracy: 80.12\n",
            "Iteration: 75500. Train_Loss: 0.14469131731291612. Valid_Loss: 0.8383581363201141. Accuracy: 81.11\n",
            "Iteration: 76000. Train_Loss: 0.15029448480058102. Valid_Loss: 0.859200489565959. Accuracy: 80.49\n",
            "Iteration: 76500. Train_Loss: 0.15084722569985698. Valid_Loss: 0.8405301205408617. Accuracy: 81.08\n",
            "Iteration: 77000. Train_Loss: 0.039098439874251684. Valid_Loss: 0.8470242771148682. Accuracy: 80.55\n",
            "Iteration: 77500. Train_Loss: 0.14517465594805384. Valid_Loss: 0.8464132563427352. Accuracy: 81.02\n",
            "Iteration: 78000. Train_Loss: 0.14574699688013448. Valid_Loss: 0.8506641233565028. Accuracy: 80.85\n",
            "Iteration: 78500. Train_Loss: 0.14573676458532414. Valid_Loss: 0.855536649154073. Accuracy: 80.68\n",
            "Iteration: 79000. Train_Loss: 0.07056086861987909. Valid_Loss: 0.8728940225839615. Accuracy: 80.59\n",
            "Iteration: 79500. Train_Loss: 0.14560246341569621. Valid_Loss: 0.8635911537382722. Accuracy: 80.92\n",
            "Iteration: 80000. Train_Loss: 0.14248604371048892. Valid_Loss: 0.8570406354386924. Accuracy: 80.77\n",
            "Iteration: 80500. Train_Loss: 0.150175715951753. Valid_Loss: 0.8718086679331156. Accuracy: 80.36\n",
            "Iteration: 81000. Train_Loss: 0.10210815193752448. Valid_Loss: 0.8758583492994308. Accuracy: 80.67\n",
            "Iteration: 81500. Train_Loss: 0.14852957843693138. Valid_Loss: 0.8649582488579249. Accuracy: 80.63\n",
            "Iteration: 82000. Train_Loss: 0.15151897050025048. Valid_Loss: 0.8747755365811114. Accuracy: 80.55\n",
            "Iteration: 82500. Train_Loss: 0.14420877928485093. Valid_Loss: 0.8609554447181744. Accuracy: 80.61\n",
            "Iteration: 83000. Train_Loss: 0.14356467090894778. Valid_Loss: 0.8617107887506485. Accuracy: 81.17\n",
            "Iteration: 83500. Train_Loss: 0.1376345087618816. Valid_Loss: 0.8659133097888971. Accuracy: 80.91\n",
            "Iteration: 84000. Train_Loss: 0.14989630663681286. Valid_Loss: 0.8749436236061788. Accuracy: 80.36\n",
            "Iteration: 84500. Train_Loss: 0.03596908867855867. Valid_Loss: 0.8771045382499695. Accuracy: 80.74\n",
            "Iteration: 85000. Train_Loss: 0.14381322651472694. Valid_Loss: 0.8842262515562342. Accuracy: 80.35\n",
            "Iteration: 85500. Train_Loss: 0.14888070584045338. Valid_Loss: 0.8937662074018433. Accuracy: 80.41\n",
            "Iteration: 86000. Train_Loss: 0.14227469712471974. Valid_Loss: 0.86817024510333. Accuracy: 80.76\n",
            "Iteration: 86500. Train_Loss: 0.07261282946765422. Valid_Loss: 0.8632544877648354. Accuracy: 80.82\n",
            "Iteration: 87000. Train_Loss: 0.14391431454879478. Valid_Loss: 0.8657155080020679. Accuracy: 80.69\n",
            "Iteration: 87500. Train_Loss: 0.14627707649423746. Valid_Loss: 0.8808281449083822. Accuracy: 81.09\n",
            "Iteration: 88000. Train_Loss: 0.13969799104219494. Valid_Loss: 0.9260289621594311. Accuracy: 80.46\n",
            "Iteration: 88500. Train_Loss: 0.10650847118869423. Valid_Loss: 0.8769310260057449. Accuracy: 81.07\n",
            "Iteration: 89000. Train_Loss: 0.14256679193961316. Valid_Loss: 0.8854067984416509. Accuracy: 80.75\n",
            "Iteration: 89500. Train_Loss: 0.14802699183038154. Valid_Loss: 0.8747673378652651. Accuracy: 80.79\n",
            "Iteration: 90000. Train_Loss: 0.1423289304574363. Valid_Loss: 0.918774287370307. Accuracy: 80.29\n",
            "Iteration: 90500. Train_Loss: 0.1422453260868788. Valid_Loss: 0.8787710299730301. Accuracy: 80.71\n",
            "Iteration: 91000. Train_Loss: 0.1392179137702393. Valid_Loss: 0.9071440267287755. Accuracy: 80.35\n",
            "Iteration: 91500. Train_Loss: 0.13571944593912402. Valid_Loss: 0.9065676304535838. Accuracy: 80.5\n",
            "Iteration: 92000. Train_Loss: 0.03449770129124324. Valid_Loss: 0.9047655200839043. Accuracy: 80.65\n",
            "Iteration: 92500. Train_Loss: 0.14299986749925817. Valid_Loss: 0.9091099977645863. Accuracy: 80.22\n",
            "Iteration: 93000. Train_Loss: 0.1451243252423058. Valid_Loss: 0.9025549520897881. Accuracy: 80.7\n",
            "Iteration: 93500. Train_Loss: 0.1404294263384257. Valid_Loss: 0.9025882047378009. Accuracy: 80.68\n",
            "Iteration: 94000. Train_Loss: 0.07072607883612315. Valid_Loss: 0.902371721124649. Accuracy: 80.91\n",
            "Iteration: 94500. Train_Loss: 0.13977846889168172. Valid_Loss: 0.906587043436036. Accuracy: 80.7\n",
            "Iteration: 95000. Train_Loss: 0.14345011703639204. Valid_Loss: 0.9398234830597073. Accuracy: 80.63\n",
            "Iteration: 95500. Train_Loss: 0.14253131448437648. Valid_Loss: 0.9348505446289608. Accuracy: 80.65\n",
            "Iteration: 96000. Train_Loss: 0.1056220806243519. Valid_Loss: 0.8805150049686432. Accuracy: 81.01\n",
            "Iteration: 96500. Train_Loss: 0.14119441168602406. Valid_Loss: 0.9131810463215685. Accuracy: 80.8\n",
            "Iteration: 97000. Train_Loss: 0.14268524483208145. Valid_Loss: 0.8943188913801984. Accuracy: 80.91\n",
            "Iteration: 97500. Train_Loss: 0.1438057717384622. Valid_Loss: 0.9081024444890831. Accuracy: 80.77\n",
            "Iteration: 98000. Train_Loss: 0.13959603300044934. Valid_Loss: 0.9591218853473663. Accuracy: 79.97\n",
            "Iteration: 98500. Train_Loss: 0.1433312290130043. Valid_Loss: 0.9138054575386095. Accuracy: 80.65\n",
            "Iteration: 99000. Train_Loss: 0.13703694215937326. Valid_Loss: 0.9152381968232578. Accuracy: 80.65\n",
            "Iteration: 99500. Train_Loss: 0.03426953485757112. Valid_Loss: 0.9179649660587311. Accuracy: 80.68\n",
            "Iteration: 100000. Train_Loss: 0.13752703893347434. Valid_Loss: 0.9426467397720575. Accuracy: 80.3\n",
            "Iteration: 100500. Train_Loss: 0.13956109849086704. Valid_Loss: 0.9395024621261051. Accuracy: 80.76\n",
            "Iteration: 101000. Train_Loss: 0.14074797783562995. Valid_Loss: 0.9406458482965209. Accuracy: 80.61\n",
            "Iteration: 101500. Train_Loss: 0.0690642284018298. Valid_Loss: 0.9311303622484207. Accuracy: 80.57\n",
            "Iteration: 102000. Train_Loss: 0.13898843837030508. Valid_Loss: 0.9513651322556234. Accuracy: 80.49\n",
            "Iteration: 102500. Train_Loss: 0.14307924182693366. Valid_Loss: 0.9509206298251076. Accuracy: 80.49\n",
            "Iteration: 103000. Train_Loss: 0.13840195124183619. Valid_Loss: 0.9569077048468912. Accuracy: 80.53\n",
            "Iteration: 103500. Train_Loss: 0.10441527946603794. Valid_Loss: 0.9420561491489411. Accuracy: 80.75\n",
            "Iteration: 104000. Train_Loss: 0.139656044194795. Valid_Loss: 0.9228209120720531. Accuracy: 80.94\n",
            "Iteration: 104500. Train_Loss: 0.13894042809319415. Valid_Loss: 0.923863982962198. Accuracy: 80.86\n",
            "Iteration: 105000. Train_Loss: 0.1400962182200931. Valid_Loss: 0.9365715824699209. Accuracy: 80.44\n",
            "Iteration: 105500. Train_Loss: 0.14010023348703982. Valid_Loss: 0.9330480219602585. Accuracy: 80.78\n",
            "Iteration: 106000. Train_Loss: 0.13654075266831006. Valid_Loss: 0.9377315139067341. Accuracy: 80.97\n",
            "Iteration: 106500. Train_Loss: 0.14060260411570502. Valid_Loss: 0.9515889465579915. Accuracy: 80.58\n",
            "Iteration: 107000. Train_Loss: 0.033800453973188996. Valid_Loss: 0.9282035169124603. Accuracy: 80.98\n",
            "Iteration: 107500. Train_Loss: 0.1349304892609688. Valid_Loss: 0.9569469396763755. Accuracy: 80.6\n",
            "Iteration: 108000. Train_Loss: 0.14601594462229642. Valid_Loss: 0.9446378229588718. Accuracy: 80.67\n",
            "Iteration: 108500. Train_Loss: 0.1372441151786706. Valid_Loss: 0.92816934462069. Accuracy: 80.84\n",
            "Iteration: 109000. Train_Loss: 0.0720588942995295. Valid_Loss: 0.9416995022058487. Accuracy: 80.79\n",
            "Iteration: 109500. Train_Loss: 0.1357284907921. Valid_Loss: 0.9554704761979318. Accuracy: 80.32\n",
            "Iteration: 110000. Train_Loss: 0.13976021278527365. Valid_Loss: 0.9219049557600069. Accuracy: 80.78\n",
            "Iteration: 110500. Train_Loss: 0.1359423554259321. Valid_Loss: 0.9441167314682856. Accuracy: 80.74\n",
            "Iteration: 111000. Train_Loss: 0.1069004943229879. Valid_Loss: 0.9604519773960114. Accuracy: 81.09\n",
            "Iteration: 111500. Train_Loss: 0.14123924939004956. Valid_Loss: 0.9497590835528518. Accuracy: 80.6\n",
            "Iteration: 112000. Train_Loss: 0.13528248225377967. Valid_Loss: 0.7248086609679026. Accuracy: 89.66\n",
            "***Validation loss decreased (0.762250 --> 0.724809). Saving model ...***\n",
            "Iteration: 112500. Train_Loss: 0.011105919329717297. Valid_Loss: 0.5006674050045832. Accuracy: 89.57\n",
            "***Validation loss decreased (0.724809 --> 0.500667). Saving model ...***\n",
            "Iteration: 113000. Train_Loss: 0.0098500455818139. Valid_Loss: 0.46959160969406366. Accuracy: 90.23\n",
            "***Validation loss decreased (0.500667 --> 0.469592). Saving model ...***\n",
            "Iteration: 113500. Train_Loss: 0.008152222942186977. Valid_Loss: 0.48044092574636715. Accuracy: 90.24\n",
            "Iteration: 114000. Train_Loss: 0.01096794257833361. Valid_Loss: 0.4779913652624875. Accuracy: 90.13\n",
            "Iteration: 114500. Train_Loss: 0.0014893729444593192. Valid_Loss: 0.48195842945054174. Accuracy: 90.25\n",
            "Iteration: 115000. Train_Loss: 0.006927489698849339. Valid_Loss: 0.4833745914905454. Accuracy: 89.97\n",
            "Iteration: 115500. Train_Loss: 0.010656098918452627. Valid_Loss: 0.49490362662333454. Accuracy: 90.05\n",
            "Iteration: 116000. Train_Loss: 0.010312612584793464. Valid_Loss: 0.49041529477413326. Accuracy: 90.03\n",
            "Iteration: 116500. Train_Loss: 0.0031400824522211527. Valid_Loss: 0.4735180889239535. Accuracy: 90.35\n",
            "Iteration: 117000. Train_Loss: 0.007383931016671467. Valid_Loss: 0.5090100029945838. Accuracy: 90.19\n",
            "Iteration: 117500. Train_Loss: 0.008966926238058106. Valid_Loss: 0.5387115842298651. Accuracy: 89.44\n",
            "Iteration: 118000. Train_Loss: 0.010906676079375274. Valid_Loss: 0.48069876704207254. Accuracy: 90.08\n",
            "Iteration: 118500. Train_Loss: 0.005710598708223552. Valid_Loss: 0.487145743060112. Accuracy: 90.16\n",
            "Iteration: 119000. Train_Loss: 0.007136324345532697. Valid_Loss: 0.4827964523336577. Accuracy: 90.49\n",
            "Iteration: 119500. Train_Loss: 0.009171987229568876. Valid_Loss: 0.4929889476950606. Accuracy: 90.24\n",
            "Iteration: 120000. Train_Loss: 0.009455047603697324. Valid_Loss: 0.4942302373029208. Accuracy: 90.27\n",
            "Iteration: 120500. Train_Loss: 0.00815468193605387. Valid_Loss: 0.49289839589744805. Accuracy: 90.34\n",
            "Iteration: 121000. Train_Loss: 0.00787150042949642. Valid_Loss: 0.5228730586281659. Accuracy: 89.85\n",
            "Iteration: 121500. Train_Loss: 0.008674633477197165. Valid_Loss: 0.50041452766654. Accuracy: 90.06\n",
            "Iteration: 122000. Train_Loss: 0.0017561646375184258. Valid_Loss: 0.5011651254696772. Accuracy: 90.07\n",
            "Iteration: 122500. Train_Loss: 0.007853547544908107. Valid_Loss: 0.4859273893404703. Accuracy: 90.2\n",
            "Iteration: 123000. Train_Loss: 0.008711039033795488. Valid_Loss: 0.508331403961532. Accuracy: 90.41\n",
            "Iteration: 123500. Train_Loss: 0.00862184458316678. Valid_Loss: 0.4910229477510682. Accuracy: 90.52\n"
          ],
          "name": "stdout"
        }
      ]
    },
    {
      "cell_type": "markdown",
      "metadata": {
        "id": "r3OkI1J875jn"
      },
      "source": [
        "## **Loss Graph**\n",
        "\n",
        "---\n",
        "\n"
      ]
    },
    {
      "cell_type": "code",
      "metadata": {
        "colab": {
          "base_uri": "https://localhost:8080/",
          "height": 350
        },
        "id": "zDeq1QZ5tuah",
        "outputId": "e0336491-99f9-4189-c4de-25ae465c3306"
      },
      "source": [
        "import matplotlib.pyplot as plt\n",
        "plt.plot(iter_data, train_loss_data, 'c', label='Training loss')\n",
        "plt.plot(iter_data, test_loss_data, 'm', label='validation loss')\n",
        "plt.title('Training and Validation loss')\n",
        "plt.xlabel('Iteration')\n",
        "plt.ylabel('Loss')\n",
        "plt.legend()\n",
        "plt.show()"
      ],
      "execution_count": null,
      "outputs": [
        {
          "output_type": "display_data",
          "data": {
            "image/png": "[encoded data removed]",
            "text/plain": [
              "<Figure size 576x360 with 1 Axes>"
            ]
          },
          "metadata": {
            "needs_background": "light"
          }
        }
      ]
    },
    {
      "cell_type": "markdown",
      "metadata": {
        "id": "6UZqwEqK3oOt"
      },
      "source": [
        "## **Accuracy Graph**\n",
        "\n",
        "---\n",
        "\n"
      ]
    },
    {
      "cell_type": "code",
      "metadata": {
        "colab": {
          "base_uri": "https://localhost:8080/",
          "height": 350
        },
        "id": "vcoK6poKtxlM",
        "outputId": "84b5290a-97a9-491d-ba11-2caee6c88b87"
      },
      "source": [
        "import numpy as np\n",
        "import matplotlib.pyplot as plt\n",
        "plt.plot(iter_data, acc_data, 'g', label='Accuracy')\n",
        "plt.title('Accuracy Graph')\n",
        "plt.xlabel('Iteration')\n",
        "plt.ylabel('Accuracy')\n",
        "plt.legend()\n",
        "plt.show()"
      ],
      "execution_count": null,
      "outputs": [
        {
          "output_type": "display_data",
          "data": {
            "image/png": "[encoded data removed]",
            "text/plain": [
              "<Figure size 576x360 with 1 Axes>"
            ]
          },
          "metadata": {
            "needs_background": "light"
          }
        }
      ]
    }
  ]
}